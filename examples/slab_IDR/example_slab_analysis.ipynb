{
 "cells": [
  {
   "cell_type": "code",
   "execution_count": null,
   "id": "5e8512a4-c01d-4420-b0dd-56f9dbcf75be",
   "metadata": {},
   "outputs": [],
   "source": [
    "import calvados as cal\n",
    "import numpy as np\n",
    "import matplotlib.pyplot as plt\n",
    "import pandas as pd\n",
    "\n",
    "import warnings\n",
    "warnings.filterwarnings(\"ignore\", category=DeprecationWarning) "
   ]
  },
  {
   "cell_type": "code",
   "execution_count": null,
   "id": "685745be-dcce-48a4-a257-09b4bb307cb0",
   "metadata": {},
   "outputs": [],
   "source": [
    "# client_chain_list = [(idx,idx) for idx in range(200,220)]\n",
    "# client_names = [f'fragment_{idx}' for idx in range(20)]\n",
    "\n",
    "system = 'hnRNPA1LCD'\n",
    "repl = 0\n",
    "\n",
    "name = f'{system}_{repl:d}'\n",
    "print(name)\n",
    "\n",
    "slab = cal.analysis.SlabAnalysis(\n",
    "    name = name,\n",
    "    input_path = name,\n",
    "    output_path = 'slab_output',\n",
    "    ref_name = system, # ref_chains = (0,199),\n",
    "    # client_chain_list = client_chain_list, client_names = client_names,\n",
    "    verbose = True)"
   ]
  },
  {
   "cell_type": "code",
   "execution_count": null,
   "id": "d5fb9e70-e3b9-44f2-845d-6216e42a1660",
   "metadata": {},
   "outputs": [],
   "source": [
    "slab.center(start=600, step=10, center_target='all')"
   ]
  },
  {
   "cell_type": "code",
   "execution_count": null,
   "id": "b80b4df5-6936-4928-b222-fcfe07454148",
   "metadata": {},
   "outputs": [],
   "source": [
    "slab.calc_profiles()"
   ]
  },
  {
   "cell_type": "code",
   "execution_count": null,
   "id": "0763cce5-bc92-40c3-95a9-cb0a1489e66e",
   "metadata": {},
   "outputs": [],
   "source": [
    "slab.calc_concentrations()"
   ]
  },
  {
   "cell_type": "code",
   "execution_count": null,
   "id": "a7153594-a030-4d7a-98f6-50e70e6e1c22",
   "metadata": {},
   "outputs": [],
   "source": [
    "slab.df_results"
   ]
  },
  {
   "cell_type": "code",
   "execution_count": null,
   "id": "950f5808-8539-48a3-aaa6-e03f1a35bb79",
   "metadata": {},
   "outputs": [],
   "source": [
    "slab.plot_density_profiles()"
   ]
  },
  {
   "cell_type": "code",
   "execution_count": null,
   "id": "8c7b6fb2-3f2c-4480-80e3-9aaf56077420",
   "metadata": {},
   "outputs": [],
   "source": [
    "# Individual profile of ref\n",
    "\n",
    "test = np.load(f'output/{name}_{slab.ref_name}_profile.npy')\n",
    "print(test.shape)\n",
    "fig, ax = plt.subplots()\n",
    "ax.imshow(test,cmap=plt.cm.Blues)"
   ]
  }
 ],
 "metadata": {
  "kernelspec": {
   "display_name": "Python 3 (ipykernel)",
   "language": "python",
   "name": "python3"
  },
  "language_info": {
   "codemirror_mode": {
    "name": "ipython",
    "version": 3
   },
   "file_extension": ".py",
   "mimetype": "text/x-python",
   "name": "python",
   "nbconvert_exporter": "python",
   "pygments_lexer": "ipython3",
   "version": "3.10.15"
  }
 },
 "nbformat": 4,
 "nbformat_minor": 5
}
